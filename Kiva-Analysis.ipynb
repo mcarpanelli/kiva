{
 "cells": [
  {
   "cell_type": "markdown",
   "metadata": {},
   "source": [
    "# Kiva Loan Data EDA and Analysis"
   ]
  },
  {
   "cell_type": "markdown",
   "metadata": {},
   "source": [
    "### About Kiva\n",
    "Kiva is an international nonprofit founded in 2005 with a mission to connect people through lending to alleviate poverty. In June 2018 Kiva was in 85 countries, and had served 2.9 Million borrowers through $ 1.16 Billion worth of loans.\n",
    "\n",
    "### How it works\n",
    "1. A borrower applies for a loan (micro-finance partner, or Kiva directly).\n",
    "2. The loan goes through the underwriting and approval process.\n",
    "3. The loan is posted to Kiva for lenders to support, and a 30-day fundraising period begins.\n",
    "4. Borrowers repay the loans.\n",
    "* Note that Kiva does not collect interest on loans, and Kiva lenders do not receive interest from loans they support on Kiva. However, Field Partners collect interest from borrowers to cover their operation costs.\n",
    "\n",
    "### About Kiva's Data\n",
    "This analysis uses Kiva's Data Snapshot (https://build.kiva.org/docs/data/snapshots) downloaded on June 15th, 2018.\n",
    "\n",
    "### Objectives of this Notebook\n",
    "1. Conduct Exploratory Data Analysis\n",
    "2. Question??"
   ]
  },
  {
   "cell_type": "markdown",
   "metadata": {},
   "source": [
    "## Libraries and Data"
   ]
  },
  {
   "cell_type": "code",
   "execution_count": 14,
   "metadata": {},
   "outputs": [],
   "source": [
    "import numpy as np\n",
    "import pandas as pd\n",
    "import matplotlib.pyplot as plt\n",
    "import seaborn as sns\n",
    "import scipy.stats as sts\n",
    "%matplotlib inline"
   ]
  },
  {
   "cell_type": "code",
   "execution_count": 35,
   "metadata": {},
   "outputs": [],
   "source": [
    "df = pd.read_csv('kiva_ds_csv/loans.csv', parse_dates=['POSTED_TIME', 'PLANNED_EXPIRATION_TIME', 'DISBURSE_TIME',\n",
    "       'RAISED_TIME'])"
   ]
  },
  {
   "cell_type": "code",
   "execution_count": 16,
   "metadata": {},
   "outputs": [],
   "source": [
    "# import random\n",
    "# df = pd.read_csv('data/loans.csv', skiprows=(lambda i: i>0 and random.random() < 0.01))"
   ]
  },
  {
   "cell_type": "code",
   "execution_count": 17,
   "metadata": {},
   "outputs": [
    {
     "data": {
      "text/plain": [
       "(1419607, 34)"
      ]
     },
     "execution_count": 17,
     "metadata": {},
     "output_type": "execute_result"
    }
   ],
   "source": [
    "df.shape"
   ]
  },
  {
   "cell_type": "code",
   "execution_count": null,
   "metadata": {},
   "outputs": [],
   "source": [
    "df.columns"
   ]
  },
  {
   "cell_type": "code",
   "execution_count": null,
   "metadata": {},
   "outputs": [],
   "source": []
  },
  {
   "cell_type": "code",
   "execution_count": null,
   "metadata": {},
   "outputs": [],
   "source": []
  },
  {
   "cell_type": "code",
   "execution_count": 36,
   "metadata": {},
   "outputs": [],
   "source": [
    "# Drop columns we don't need\n",
    "df = df.drop(['DESCRIPTION', 'DESCRIPTION_TRANSLATED', 'NUM_JOURNAL_ENTRIES', 'TAGS', 'NUM_BULK_ENTRIES', 'BORROWER_PICTURED'], axis=1)"
   ]
  },
  {
   "cell_type": "code",
   "execution_count": 37,
   "metadata": {},
   "outputs": [
    {
     "data": {
      "text/plain": [
       "Index(['LOAN_ID', 'LOAN_NAME', 'ORIGINAL_LANGUAGE', 'FUNDED_AMOUNT',\n",
       "       'LOAN_AMOUNT', 'STATUS', 'IMAGE_ID', 'VIDEO_ID', 'ACTIVITY_NAME',\n",
       "       'SECTOR_NAME', 'LOAN_USE', 'COUNTRY_CODE', 'COUNTRY_NAME', 'TOWN_NAME',\n",
       "       'CURRENCY_POLICY', 'CURRENCY_EXCHANGE_COVERAGE_RATE', 'CURRENCY',\n",
       "       'PARTNER_ID', 'POSTED_TIME', 'PLANNED_EXPIRATION_TIME', 'DISBURSE_TIME',\n",
       "       'RAISED_TIME', 'LENDER_TERM', 'NUM_LENDERS_TOTAL', 'BORROWER_NAMES',\n",
       "       'BORROWER_GENDERS', 'REPAYMENT_INTERVAL', 'DISTRIBUTION_MODEL'],\n",
       "      dtype='object')"
      ]
     },
     "execution_count": 37,
     "metadata": {},
     "output_type": "execute_result"
    }
   ],
   "source": [
    "df.columns"
   ]
  },
  {
   "cell_type": "code",
   "execution_count": 38,
   "metadata": {},
   "outputs": [],
   "source": [
    "df['diff_posted_planned'] = df['PLANNED_EXPIRATION_TIME'].sub(df['POSTED_TIME'], axis=0)\n",
    "df['diff_posted_planned'] = df['diff_posted_planned'] / np.timedelta64(1, 'D')"
   ]
  },
  {
   "cell_type": "code",
   "execution_count": 39,
   "metadata": {},
   "outputs": [],
   "source": [
    "df['diff_posted_raised'] = df['RAISED_TIME'].sub(df['POSTED_TIME'], axis=0)\n",
    "df['diff_posted_raised'] = df['diff_posted_raised'] / np.timedelta64(1, 'D')"
   ]
  },
  {
   "cell_type": "code",
   "execution_count": 40,
   "metadata": {},
   "outputs": [],
   "source": [
    "# Group vs Individual loans\n",
    "# mask_g = df['BORROWER_GENDERS']!= 'male' & df['BORROWER_GENDERS'] != 'female'\n",
    "df['GROUP'] = np.where(np.logical_and(df['BORROWER_GENDERS']!= 'male', df['BORROWER_GENDERS']!= 'female'), 1, 0)"
   ]
  },
  {
   "cell_type": "code",
   "execution_count": 41,
   "metadata": {},
   "outputs": [],
   "source": [
    "df['IMAGE_ID'] = np.where(np.logical_or(np.isnan(df['IMAGE_ID']), df['IMAGE_ID']==0), 0, 1)\n",
    "df['VIDEO_ID'] = np.where(np.logical_or(np.isnan(df['VIDEO_ID']), df['VIDEO_ID']==0), 0, 1)"
   ]
  },
  {
   "cell_type": "code",
   "execution_count": 42,
   "metadata": {},
   "outputs": [],
   "source": [
    "individual = df['GROUP']==0\n",
    "group = df['GROUP']==1"
   ]
  },
  {
   "cell_type": "code",
   "execution_count": 43,
   "metadata": {},
   "outputs": [
    {
     "data": {
      "text/plain": [
       "0    0.827514\n",
       "1    0.172486\n",
       "Name: GROUP, dtype: float64"
      ]
     },
     "execution_count": 43,
     "metadata": {},
     "output_type": "execute_result"
    }
   ],
   "source": [
    "df['GROUP'].value_counts(1)"
   ]
  },
  {
   "cell_type": "markdown",
   "metadata": {},
   "source": [
    "Questions this notebook aims at answering:\n",
    "1. Can we use some of these features to identify gender inequality in microfinance?\n",
    "    * individual loans, by sector, activity, country\n",
    "    * group loans--look at gender mix in groups\n",
    "2. What's the likelihood of being funded for xxx?\n"
   ]
  },
  {
   "cell_type": "markdown",
   "metadata": {},
   "source": [
    "Considerations to explore gender differences:\n",
    "    1. Some loans are outliers (loan_amount>80000) because they are loans to companies--we exclude them from our analysis\n",
    "    2. Kiva-zip business model is signifantly different from kiva's traditional business model--we exclude kiva-zip\n",
    "    3. We want to start by looking at individual loans. It would be interesting to look at the gender proportions of group loans in a second phase of the analysis."
   ]
  },
  {
   "cell_type": "code",
   "execution_count": 140,
   "metadata": {},
   "outputs": [
    {
     "data": {
      "text/html": [
       "<div>\n",
       "<style scoped>\n",
       "    .dataframe tbody tr th:only-of-type {\n",
       "        vertical-align: middle;\n",
       "    }\n",
       "\n",
       "    .dataframe tbody tr th {\n",
       "        vertical-align: top;\n",
       "    }\n",
       "\n",
       "    .dataframe thead th {\n",
       "        text-align: right;\n",
       "    }\n",
       "</style>\n",
       "<table border=\"1\" class=\"dataframe\">\n",
       "  <thead>\n",
       "    <tr style=\"text-align: right;\">\n",
       "      <th></th>\n",
       "      <th>LOAN_ID</th>\n",
       "      <th>LOAN_NAME</th>\n",
       "      <th>ORIGINAL_LANGUAGE</th>\n",
       "      <th>FUNDED_AMOUNT</th>\n",
       "      <th>LOAN_AMOUNT</th>\n",
       "      <th>STATUS</th>\n",
       "      <th>IMAGE_ID</th>\n",
       "      <th>VIDEO_ID</th>\n",
       "      <th>ACTIVITY_NAME</th>\n",
       "      <th>SECTOR_NAME</th>\n",
       "      <th>...</th>\n",
       "      <th>RAISED_TIME</th>\n",
       "      <th>LENDER_TERM</th>\n",
       "      <th>NUM_LENDERS_TOTAL</th>\n",
       "      <th>BORROWER_NAMES</th>\n",
       "      <th>BORROWER_GENDERS</th>\n",
       "      <th>REPAYMENT_INTERVAL</th>\n",
       "      <th>DISTRIBUTION_MODEL</th>\n",
       "      <th>diff_posted_planned</th>\n",
       "      <th>diff_posted_raised</th>\n",
       "      <th>GROUP</th>\n",
       "    </tr>\n",
       "  </thead>\n",
       "  <tbody>\n",
       "    <tr>\n",
       "      <th>0</th>\n",
       "      <td>657307</td>\n",
       "      <td>Aivy</td>\n",
       "      <td>English</td>\n",
       "      <td>125.0</td>\n",
       "      <td>125.0</td>\n",
       "      <td>funded</td>\n",
       "      <td>1</td>\n",
       "      <td>0</td>\n",
       "      <td>General Store</td>\n",
       "      <td>Retail</td>\n",
       "      <td>...</td>\n",
       "      <td>2014-01-15 04:48:22</td>\n",
       "      <td>7.0</td>\n",
       "      <td>3</td>\n",
       "      <td>Aivy</td>\n",
       "      <td>female</td>\n",
       "      <td>irregular</td>\n",
       "      <td>field_partner</td>\n",
       "      <td>30.046076</td>\n",
       "      <td>0.100428</td>\n",
       "      <td>0</td>\n",
       "    </tr>\n",
       "    <tr>\n",
       "      <th>1</th>\n",
       "      <td>657259</td>\n",
       "      <td>Idalia Marizza</td>\n",
       "      <td>Spanish</td>\n",
       "      <td>400.0</td>\n",
       "      <td>400.0</td>\n",
       "      <td>funded</td>\n",
       "      <td>1</td>\n",
       "      <td>0</td>\n",
       "      <td>Used Clothing</td>\n",
       "      <td>Clothing</td>\n",
       "      <td>...</td>\n",
       "      <td>2014-02-25 06:42:06</td>\n",
       "      <td>8.0</td>\n",
       "      <td>11</td>\n",
       "      <td>Idalia Marizza</td>\n",
       "      <td>female</td>\n",
       "      <td>monthly</td>\n",
       "      <td>field_partner</td>\n",
       "      <td>71.084572</td>\n",
       "      <td>41.429699</td>\n",
       "      <td>0</td>\n",
       "    </tr>\n",
       "    <tr>\n",
       "      <th>2</th>\n",
       "      <td>658010</td>\n",
       "      <td>Aasia</td>\n",
       "      <td>English</td>\n",
       "      <td>400.0</td>\n",
       "      <td>400.0</td>\n",
       "      <td>funded</td>\n",
       "      <td>1</td>\n",
       "      <td>0</td>\n",
       "      <td>General Store</td>\n",
       "      <td>Retail</td>\n",
       "      <td>...</td>\n",
       "      <td>2014-01-24 23:06:18</td>\n",
       "      <td>14.0</td>\n",
       "      <td>16</td>\n",
       "      <td>Aasia</td>\n",
       "      <td>female</td>\n",
       "      <td>monthly</td>\n",
       "      <td>field_partner</td>\n",
       "      <td>30.400775</td>\n",
       "      <td>8.481481</td>\n",
       "      <td>0</td>\n",
       "    </tr>\n",
       "    <tr>\n",
       "      <th>3</th>\n",
       "      <td>659347</td>\n",
       "      <td>Gulmira</td>\n",
       "      <td>Russian</td>\n",
       "      <td>625.0</td>\n",
       "      <td>625.0</td>\n",
       "      <td>funded</td>\n",
       "      <td>1</td>\n",
       "      <td>0</td>\n",
       "      <td>Farming</td>\n",
       "      <td>Agriculture</td>\n",
       "      <td>...</td>\n",
       "      <td>2014-01-22 05:29:28</td>\n",
       "      <td>14.0</td>\n",
       "      <td>21</td>\n",
       "      <td>Gulmira</td>\n",
       "      <td>female</td>\n",
       "      <td>monthly</td>\n",
       "      <td>field_partner</td>\n",
       "      <td>31.715440</td>\n",
       "      <td>1.812269</td>\n",
       "      <td>0</td>\n",
       "    </tr>\n",
       "    <tr>\n",
       "      <th>4</th>\n",
       "      <td>656933</td>\n",
       "      <td>Ricky\\t</td>\n",
       "      <td>English</td>\n",
       "      <td>425.0</td>\n",
       "      <td>425.0</td>\n",
       "      <td>funded</td>\n",
       "      <td>1</td>\n",
       "      <td>0</td>\n",
       "      <td>Farming</td>\n",
       "      <td>Agriculture</td>\n",
       "      <td>...</td>\n",
       "      <td>2014-01-14 17:29:27</td>\n",
       "      <td>7.0</td>\n",
       "      <td>15</td>\n",
       "      <td>Ricky\\t</td>\n",
       "      <td>male</td>\n",
       "      <td>bullet</td>\n",
       "      <td>field_partner</td>\n",
       "      <td>30.016447</td>\n",
       "      <td>0.488264</td>\n",
       "      <td>0</td>\n",
       "    </tr>\n",
       "  </tbody>\n",
       "</table>\n",
       "<p>5 rows × 31 columns</p>\n",
       "</div>"
      ],
      "text/plain": [
       "   LOAN_ID       LOAN_NAME ORIGINAL_LANGUAGE  FUNDED_AMOUNT  LOAN_AMOUNT  \\\n",
       "0   657307            Aivy           English          125.0        125.0   \n",
       "1   657259  Idalia Marizza           Spanish          400.0        400.0   \n",
       "2   658010           Aasia           English          400.0        400.0   \n",
       "3   659347         Gulmira           Russian          625.0        625.0   \n",
       "4   656933         Ricky\\t           English          425.0        425.0   \n",
       "\n",
       "   STATUS  IMAGE_ID  VIDEO_ID  ACTIVITY_NAME  SECTOR_NAME  ...   \\\n",
       "0  funded         1         0  General Store       Retail  ...    \n",
       "1  funded         1         0  Used Clothing     Clothing  ...    \n",
       "2  funded         1         0  General Store       Retail  ...    \n",
       "3  funded         1         0        Farming  Agriculture  ...    \n",
       "4  funded         1         0        Farming  Agriculture  ...    \n",
       "\n",
       "          RAISED_TIME LENDER_TERM NUM_LENDERS_TOTAL  BORROWER_NAMES  \\\n",
       "0 2014-01-15 04:48:22         7.0                 3            Aivy   \n",
       "1 2014-02-25 06:42:06         8.0                11  Idalia Marizza   \n",
       "2 2014-01-24 23:06:18        14.0                16           Aasia   \n",
       "3 2014-01-22 05:29:28        14.0                21         Gulmira   \n",
       "4 2014-01-14 17:29:27         7.0                15         Ricky\\t   \n",
       "\n",
       "  BORROWER_GENDERS  REPAYMENT_INTERVAL DISTRIBUTION_MODEL  \\\n",
       "0           female           irregular      field_partner   \n",
       "1           female             monthly      field_partner   \n",
       "2           female             monthly      field_partner   \n",
       "3           female             monthly      field_partner   \n",
       "4             male              bullet      field_partner   \n",
       "\n",
       "   diff_posted_planned diff_posted_raised GROUP  \n",
       "0            30.046076           0.100428     0  \n",
       "1            71.084572          41.429699     0  \n",
       "2            30.400775           8.481481     0  \n",
       "3            31.715440           1.812269     0  \n",
       "4            30.016447           0.488264     0  \n",
       "\n",
       "[5 rows x 31 columns]"
      ]
     },
     "execution_count": 140,
     "metadata": {},
     "output_type": "execute_result"
    }
   ],
   "source": [
    "df.head()"
   ]
  },
  {
   "cell_type": "code",
   "execution_count": 44,
   "metadata": {},
   "outputs": [
    {
     "data": {
      "text/plain": [
       "103.09370720832506"
      ]
     },
     "execution_count": 44,
     "metadata": {},
     "output_type": "execute_result"
    }
   ],
   "source": [
    "# Empirical expiration time is about 103 days for direct loans\n",
    "df[df['DISTRIBUTION_MODEL']=='direct']['diff_posted_planned'].mean()"
   ]
  },
  {
   "cell_type": "code",
   "execution_count": 45,
   "metadata": {},
   "outputs": [
    {
     "data": {
      "text/plain": [
       "36.69100024716611"
      ]
     },
     "execution_count": 45,
     "metadata": {},
     "output_type": "execute_result"
    }
   ],
   "source": [
    "# Empirical expiration time is about 37 days for field-partner loans\n",
    "df[df['DISTRIBUTION_MODEL']=='field_partner']['diff_posted_planned'].mean()"
   ]
  },
  {
   "cell_type": "code",
   "execution_count": 46,
   "metadata": {},
   "outputs": [
    {
     "data": {
      "text/plain": [
       "46.93997493908382"
      ]
     },
     "execution_count": 46,
     "metadata": {},
     "output_type": "execute_result"
    }
   ],
   "source": [
    "# Average time (in days) it takes to fund direct loan\n",
    "df[df['DISTRIBUTION_MODEL']=='direct']['diff_posted_raised'].mean()"
   ]
  },
  {
   "cell_type": "code",
   "execution_count": 47,
   "metadata": {},
   "outputs": [
    {
     "data": {
      "text/plain": [
       "12.210967399641726"
      ]
     },
     "execution_count": 47,
     "metadata": {},
     "output_type": "execute_result"
    }
   ],
   "source": [
    "# Average time (in days) it takes to fund field-partner loan\n",
    "df[df['DISTRIBUTION_MODEL']=='field_partner']['diff_posted_raised'].mean()"
   ]
  },
  {
   "cell_type": "code",
   "execution_count": 48,
   "metadata": {},
   "outputs": [],
   "source": [
    "# Remove outliers and kiva zip\n",
    "df = df[(df['LOAN_AMOUNT'] < 80000)] \n",
    "df = df[df['DISTRIBUTION_MODEL'] == 'field_partner']"
   ]
  },
  {
   "cell_type": "code",
   "execution_count": 49,
   "metadata": {},
   "outputs": [
    {
     "data": {
      "text/plain": [
       "monthly      0.549202\n",
       "irregular    0.373273\n",
       "bullet       0.077525\n",
       "Name: REPAYMENT_INTERVAL, dtype: float64"
      ]
     },
     "execution_count": 49,
     "metadata": {},
     "output_type": "execute_result"
    }
   ],
   "source": [
    "df['REPAYMENT_INTERVAL'].value_counts(1)"
   ]
  },
  {
   "cell_type": "code",
   "execution_count": 50,
   "metadata": {},
   "outputs": [
    {
     "data": {
      "text/plain": [
       "funded         0.952601\n",
       "expired        0.040498\n",
       "refunded       0.004366\n",
       "fundRaising    0.002535\n",
       "Name: STATUS, dtype: float64"
      ]
     },
     "execution_count": 50,
     "metadata": {},
     "output_type": "execute_result"
    }
   ],
   "source": [
    "df['STATUS'].value_counts(1)"
   ]
  },
  {
   "cell_type": "code",
   "execution_count": 51,
   "metadata": {},
   "outputs": [
    {
     "data": {
      "text/plain": [
       "field_partner    1.0\n",
       "Name: DISTRIBUTION_MODEL, dtype: float64"
      ]
     },
     "execution_count": 51,
     "metadata": {},
     "output_type": "execute_result"
    }
   ],
   "source": [
    "df['DISTRIBUTION_MODEL'].value_counts(1)"
   ]
  },
  {
   "cell_type": "code",
   "execution_count": 52,
   "metadata": {},
   "outputs": [
    {
     "data": {
      "text/html": [
       "<div>\n",
       "<style scoped>\n",
       "    .dataframe tbody tr th:only-of-type {\n",
       "        vertical-align: middle;\n",
       "    }\n",
       "\n",
       "    .dataframe tbody tr th {\n",
       "        vertical-align: top;\n",
       "    }\n",
       "\n",
       "    .dataframe thead th {\n",
       "        text-align: right;\n",
       "    }\n",
       "</style>\n",
       "<table border=\"1\" class=\"dataframe\">\n",
       "  <thead>\n",
       "    <tr style=\"text-align: right;\">\n",
       "      <th></th>\n",
       "      <th>LOAN_ID</th>\n",
       "      <th>LOAN_NAME</th>\n",
       "      <th>ORIGINAL_LANGUAGE</th>\n",
       "      <th>FUNDED_AMOUNT</th>\n",
       "      <th>LOAN_AMOUNT</th>\n",
       "      <th>STATUS</th>\n",
       "      <th>IMAGE_ID</th>\n",
       "      <th>VIDEO_ID</th>\n",
       "      <th>ACTIVITY_NAME</th>\n",
       "      <th>SECTOR_NAME</th>\n",
       "      <th>...</th>\n",
       "      <th>RAISED_TIME</th>\n",
       "      <th>LENDER_TERM</th>\n",
       "      <th>NUM_LENDERS_TOTAL</th>\n",
       "      <th>BORROWER_NAMES</th>\n",
       "      <th>BORROWER_GENDERS</th>\n",
       "      <th>REPAYMENT_INTERVAL</th>\n",
       "      <th>DISTRIBUTION_MODEL</th>\n",
       "      <th>diff_posted_planned</th>\n",
       "      <th>diff_posted_raised</th>\n",
       "      <th>GROUP</th>\n",
       "    </tr>\n",
       "  </thead>\n",
       "  <tbody>\n",
       "    <tr>\n",
       "      <th>0</th>\n",
       "      <td>657307</td>\n",
       "      <td>Aivy</td>\n",
       "      <td>English</td>\n",
       "      <td>125.0</td>\n",
       "      <td>125.0</td>\n",
       "      <td>funded</td>\n",
       "      <td>1</td>\n",
       "      <td>0</td>\n",
       "      <td>General Store</td>\n",
       "      <td>Retail</td>\n",
       "      <td>...</td>\n",
       "      <td>2014-01-15 04:48:22</td>\n",
       "      <td>7.0</td>\n",
       "      <td>3</td>\n",
       "      <td>Aivy</td>\n",
       "      <td>female</td>\n",
       "      <td>irregular</td>\n",
       "      <td>field_partner</td>\n",
       "      <td>30.046076</td>\n",
       "      <td>0.100428</td>\n",
       "      <td>0</td>\n",
       "    </tr>\n",
       "    <tr>\n",
       "      <th>1</th>\n",
       "      <td>657259</td>\n",
       "      <td>Idalia Marizza</td>\n",
       "      <td>Spanish</td>\n",
       "      <td>400.0</td>\n",
       "      <td>400.0</td>\n",
       "      <td>funded</td>\n",
       "      <td>1</td>\n",
       "      <td>0</td>\n",
       "      <td>Used Clothing</td>\n",
       "      <td>Clothing</td>\n",
       "      <td>...</td>\n",
       "      <td>2014-02-25 06:42:06</td>\n",
       "      <td>8.0</td>\n",
       "      <td>11</td>\n",
       "      <td>Idalia Marizza</td>\n",
       "      <td>female</td>\n",
       "      <td>monthly</td>\n",
       "      <td>field_partner</td>\n",
       "      <td>71.084572</td>\n",
       "      <td>41.429699</td>\n",
       "      <td>0</td>\n",
       "    </tr>\n",
       "    <tr>\n",
       "      <th>2</th>\n",
       "      <td>658010</td>\n",
       "      <td>Aasia</td>\n",
       "      <td>English</td>\n",
       "      <td>400.0</td>\n",
       "      <td>400.0</td>\n",
       "      <td>funded</td>\n",
       "      <td>1</td>\n",
       "      <td>0</td>\n",
       "      <td>General Store</td>\n",
       "      <td>Retail</td>\n",
       "      <td>...</td>\n",
       "      <td>2014-01-24 23:06:18</td>\n",
       "      <td>14.0</td>\n",
       "      <td>16</td>\n",
       "      <td>Aasia</td>\n",
       "      <td>female</td>\n",
       "      <td>monthly</td>\n",
       "      <td>field_partner</td>\n",
       "      <td>30.400775</td>\n",
       "      <td>8.481481</td>\n",
       "      <td>0</td>\n",
       "    </tr>\n",
       "    <tr>\n",
       "      <th>3</th>\n",
       "      <td>659347</td>\n",
       "      <td>Gulmira</td>\n",
       "      <td>Russian</td>\n",
       "      <td>625.0</td>\n",
       "      <td>625.0</td>\n",
       "      <td>funded</td>\n",
       "      <td>1</td>\n",
       "      <td>0</td>\n",
       "      <td>Farming</td>\n",
       "      <td>Agriculture</td>\n",
       "      <td>...</td>\n",
       "      <td>2014-01-22 05:29:28</td>\n",
       "      <td>14.0</td>\n",
       "      <td>21</td>\n",
       "      <td>Gulmira</td>\n",
       "      <td>female</td>\n",
       "      <td>monthly</td>\n",
       "      <td>field_partner</td>\n",
       "      <td>31.715440</td>\n",
       "      <td>1.812269</td>\n",
       "      <td>0</td>\n",
       "    </tr>\n",
       "    <tr>\n",
       "      <th>4</th>\n",
       "      <td>656933</td>\n",
       "      <td>Ricky\\t</td>\n",
       "      <td>English</td>\n",
       "      <td>425.0</td>\n",
       "      <td>425.0</td>\n",
       "      <td>funded</td>\n",
       "      <td>1</td>\n",
       "      <td>0</td>\n",
       "      <td>Farming</td>\n",
       "      <td>Agriculture</td>\n",
       "      <td>...</td>\n",
       "      <td>2014-01-14 17:29:27</td>\n",
       "      <td>7.0</td>\n",
       "      <td>15</td>\n",
       "      <td>Ricky\\t</td>\n",
       "      <td>male</td>\n",
       "      <td>bullet</td>\n",
       "      <td>field_partner</td>\n",
       "      <td>30.016447</td>\n",
       "      <td>0.488264</td>\n",
       "      <td>0</td>\n",
       "    </tr>\n",
       "  </tbody>\n",
       "</table>\n",
       "<p>5 rows × 31 columns</p>\n",
       "</div>"
      ],
      "text/plain": [
       "   LOAN_ID       LOAN_NAME ORIGINAL_LANGUAGE  FUNDED_AMOUNT  LOAN_AMOUNT  \\\n",
       "0   657307            Aivy           English          125.0        125.0   \n",
       "1   657259  Idalia Marizza           Spanish          400.0        400.0   \n",
       "2   658010           Aasia           English          400.0        400.0   \n",
       "3   659347         Gulmira           Russian          625.0        625.0   \n",
       "4   656933         Ricky\\t           English          425.0        425.0   \n",
       "\n",
       "   STATUS  IMAGE_ID  VIDEO_ID  ACTIVITY_NAME  SECTOR_NAME  ...   \\\n",
       "0  funded         1         0  General Store       Retail  ...    \n",
       "1  funded         1         0  Used Clothing     Clothing  ...    \n",
       "2  funded         1         0  General Store       Retail  ...    \n",
       "3  funded         1         0        Farming  Agriculture  ...    \n",
       "4  funded         1         0        Farming  Agriculture  ...    \n",
       "\n",
       "          RAISED_TIME LENDER_TERM NUM_LENDERS_TOTAL  BORROWER_NAMES  \\\n",
       "0 2014-01-15 04:48:22         7.0                 3            Aivy   \n",
       "1 2014-02-25 06:42:06         8.0                11  Idalia Marizza   \n",
       "2 2014-01-24 23:06:18        14.0                16           Aasia   \n",
       "3 2014-01-22 05:29:28        14.0                21         Gulmira   \n",
       "4 2014-01-14 17:29:27         7.0                15         Ricky\\t   \n",
       "\n",
       "  BORROWER_GENDERS  REPAYMENT_INTERVAL DISTRIBUTION_MODEL  \\\n",
       "0           female           irregular      field_partner   \n",
       "1           female             monthly      field_partner   \n",
       "2           female             monthly      field_partner   \n",
       "3           female             monthly      field_partner   \n",
       "4             male              bullet      field_partner   \n",
       "\n",
       "   diff_posted_planned diff_posted_raised GROUP  \n",
       "0            30.046076           0.100428     0  \n",
       "1            71.084572          41.429699     0  \n",
       "2            30.400775           8.481481     0  \n",
       "3            31.715440           1.812269     0  \n",
       "4            30.016447           0.488264     0  \n",
       "\n",
       "[5 rows x 31 columns]"
      ]
     },
     "execution_count": 52,
     "metadata": {},
     "output_type": "execute_result"
    }
   ],
   "source": [
    "df.head()"
   ]
  },
  {
   "cell_type": "markdown",
   "metadata": {},
   "source": [
    "## Individual loans"
   ]
  },
  {
   "cell_type": "markdown",
   "metadata": {},
   "source": [
    "First, we justify why it's worth analyzing individual and group loans separately!"
   ]
  },
  {
   "cell_type": "code",
   "execution_count": 53,
   "metadata": {},
   "outputs": [],
   "source": [
    "individual = df['GROUP']==0\n",
    "group = df['GROUP']==1"
   ]
  },
  {
   "cell_type": "code",
   "execution_count": null,
   "metadata": {},
   "outputs": [],
   "source": []
  },
  {
   "cell_type": "code",
   "execution_count": null,
   "metadata": {},
   "outputs": [],
   "source": [
    "df['GROUP'].value_counts(1)"
   ]
  },
  {
   "cell_type": "code",
   "execution_count": null,
   "metadata": {},
   "outputs": [],
   "source": [
    "df[['FUNDED_AMOUNT', 'LOAN_AMOUNT', 'LENDER_TERM', 'NUM_LENDERS_TOTAL']][group].describe().T"
   ]
  },
  {
   "cell_type": "code",
   "execution_count": null,
   "metadata": {},
   "outputs": [],
   "source": [
    "df[['FUNDED_AMOUNT', 'LOAN_AMOUNT', 'LENDER_TERM', 'NUM_LENDERS_TOTAL']][individual].describe().T"
   ]
  },
  {
   "cell_type": "markdown",
   "metadata": {},
   "source": [
    "There is good reason to analyze group and individual loans separately:"
   ]
  },
  {
   "cell_type": "code",
   "execution_count": 122,
   "metadata": {},
   "outputs": [
    {
     "data": {
      "image/png": "[encoded data removed]",
      "text/plain": [
       "<Figure size 1440x576 with 1 Axes>"
      ]
     },
     "metadata": {},
     "output_type": "display_data"
    }
   ],
   "source": [
    "# Distribution by group\n",
    "plt.figure(figsize=(20,8))\n",
    "sns.distplot(df[individual]['LOAN_AMOUNT'], hist=False, color='blue', label = 'Individual', kde_kws={'clip': (0, 8000)})\n",
    "sns.distplot(df[group]['LOAN_AMOUNT'], hist=False, color='purple', label = 'Group',  kde_kws={'clip': (0, 8000)})\n",
    "plt.axvline(df[individual]['LOAN_AMOUNT'].mean(), color=\"blue\", linestyle=\"--\")\n",
    "plt.axvline(df[group]['LOAN_AMOUNT'].mean(), color=\"purple\", linestyle=\"--\")\n",
    "\n",
    "plt.legend();"
   ]
  },
  {
   "cell_type": "code",
   "execution_count": 56,
   "metadata": {},
   "outputs": [
    {
     "name": "stdout",
     "output_type": "stream",
     "text": [
      "p-value: 0.00\n"
     ]
    }
   ],
   "source": [
    "# HYPOTHESIS TESTING FOR DIFFERENCES IN AVERAGE LOAN SIZES\n",
    "# H0: mu_group - mu_individual = 0\n",
    "# Ha: mu_group - mu_induvidual != 0\n",
    "\n",
    "# alpha = 0.05\n",
    "\n",
    "# T test\n",
    "t, p = sts.ttest_ind(df[individual]['LOAN_AMOUNT'], df[group]['LOAN_AMOUNT'], equal_var=False)\n",
    "\n",
    "# p value\n",
    "print(\"p-value: {:2.2f}\".format(p))"
   ]
  },
  {
   "cell_type": "code",
   "execution_count": 82,
   "metadata": {},
   "outputs": [
    {
     "data": {
      "image/png": "[encoded data removed]",
      "text/plain": [
       "<Figure size 1440x576 with 1 Axes>"
      ]
     },
     "metadata": {},
     "output_type": "display_data"
    }
   ],
   "source": [
    "# Distribution by group\n",
    "\n",
    "# Clean out weird data (we found some observations where the planned date was roughly one year appart from the posted date, which suggests data entry mistakes)\n",
    "right_data = df['diff_posted_planned'] > -30\n",
    "\n",
    "plt.figure(figsize=(20,8))\n",
    "sns.distplot(df[individual & funded & right_data]['diff_posted_raised'], hist=False, color='blue', label = 'Individual')#, kde_kws={'clip': (-100, 100)})\n",
    "sns.distplot(df[group  & funded & right_data]['diff_posted_raised'], hist=False, color='purple', label = 'Group')#,  kde_kws={'clip': (-100, 100)})\n",
    "plt.axvline(df[individual  & funded & right_data]['diff_posted_raised'].mean(), color=\"blue\", linestyle=\"--\")\n",
    "plt.axvline(df[group  & funded & right_data]['diff_posted_raised'].mean(), color=\"purple\", linestyle=\"--\")\n",
    "\n",
    "plt.legend();"
   ]
  },
  {
   "cell_type": "code",
   "execution_count": 84,
   "metadata": {},
   "outputs": [
    {
     "data": {
      "text/plain": [
       "(-24.629323783868166, 8.828498401211112e-134)"
      ]
     },
     "execution_count": 84,
     "metadata": {},
     "output_type": "execute_result"
    }
   ],
   "source": [
    "# HYPOTHESIS TESTING FOR DIFFERENCES IN AVERAGE TIME TO BE FUNDED\n",
    "# H0: mu_group - mu_individual = 0\n",
    "# Ha: mu_group - mu_induvidual != 0\n",
    "\n",
    "# alpha = 0.05\n",
    "\n",
    "# T test\n",
    "funded = df['STATUS']=='funded'\n",
    "t, p = sts.ttest_ind(df[individual & funded & right_data]['diff_posted_raised'], df[group & funded & right_data]['diff_posted_raised'], equal_var=False)\n",
    "\n",
    "t, p\n",
    "# p value\n",
    "# print(\"p-value: {:2.2f}\".format(p))"
   ]
  },
  {
   "cell_type": "markdown",
   "metadata": {},
   "source": [
    "## Gender differences for individual loans"
   ]
  },
  {
   "cell_type": "markdown",
   "metadata": {},
   "source": [
    "### Are there gender differences by loan amount and time it takes to fund a loan?"
   ]
  },
  {
   "cell_type": "code",
   "execution_count": 89,
   "metadata": {},
   "outputs": [
    {
     "data": {
      "image/png": "[encoded data removed]",
      "text/plain": [
       "<Figure size 1440x576 with 1 Axes>"
      ]
     },
     "metadata": {},
     "output_type": "display_data"
    }
   ],
   "source": [
    "# Individual loan splitup by gender\n",
    "male = df['BORROWER_GENDERS']=='male'\n",
    "female = df['BORROWER_GENDERS']=='female'\n",
    "\n",
    "plt.figure(figsize=(20,8))\n",
    "sns.distplot(df[male]['LOAN_AMOUNT'], hist=False, color='blue', label = 'Men', kde_kws={'clip': (0, 4000)});\n",
    "sns.distplot(df[female]['LOAN_AMOUNT'], hist=False, color='purple', label = 'Women', kde_kws={'clip': (0, 4000)});\n",
    "plt.axvline(df[male]['LOAN_AMOUNT'].mean(), color=\"blue\", linestyle=\"--\")\n",
    "plt.axvline(df[female]['LOAN_AMOUNT'].mean(), color=\"purple\", linestyle=\"--\")\n",
    "plt.legend();"
   ]
  },
  {
   "cell_type": "code",
   "execution_count": 120,
   "metadata": {},
   "outputs": [
    {
     "name": "stdout",
     "output_type": "stream",
     "text": [
      "p-value: 0.00\n"
     ]
    }
   ],
   "source": [
    "# H0: mu_male - mu_female = 0\n",
    "# Ha: mu_male - mu_female != 0\n",
    "\n",
    "# alpha = 0.05\n",
    "\n",
    "# T test\n",
    "t, p = sts.ttest_ind(df[male]['LOAN_AMOUNT'], df[female]['LOAN_AMOUNT'], equal_var=False)\n",
    "\n",
    "# p value\n",
    "print(\"p-value: {:2.2f}\".format(p))"
   ]
  },
  {
   "cell_type": "code",
   "execution_count": 123,
   "metadata": {},
   "outputs": [
    {
     "name": "stderr",
     "output_type": "stream",
     "text": [
      "/Users/nreyna/miniconda3/lib/python3.6/site-packages/statsmodels/nonparametric/kde.py:448: RuntimeWarning: invalid value encountered in greater\n",
      "  X = X[np.logical_and(X > clip[0], X < clip[1])] # won't work for two columns.\n",
      "/Users/nreyna/miniconda3/lib/python3.6/site-packages/statsmodels/nonparametric/kde.py:448: RuntimeWarning: invalid value encountered in less\n",
      "  X = X[np.logical_and(X > clip[0], X < clip[1])] # won't work for two columns.\n"
     ]
    },
    {
     "data": {
      "image/png": "[encoded data removed]",
      "text/plain": [
       "<Figure size 1440x576 with 1 Axes>"
      ]
     },
     "metadata": {},
     "output_type": "display_data"
    }
   ],
   "source": [
    "\n",
    "plt.figure(figsize=(20,8))\n",
    "sns.distplot(df[male]['diff_posted_raised'], hist=False, color='blue', label = 'Men', kde_kws={'clip': (0, 4000)});\n",
    "sns.distplot(df[female]['diff_posted_raised'], hist=False, color='purple', label = 'Women', kde_kws={'clip': (0, 4000)});\n",
    "plt.axvline(df[male]['diff_posted_raised'].mean(), color=\"blue\", linestyle=\"--\")\n",
    "plt.axvline(df[female]['diff_posted_raised'].mean(), color=\"purple\", linestyle=\"--\")\n",
    "plt.legend();"
   ]
  },
  {
   "cell_type": "markdown",
   "metadata": {},
   "source": [
    "### Is there a significant difference in the time it took to get a loan funded depending on whether the borrower is male or female, by sector?"
   ]
  },
  {
   "cell_type": "code",
   "execution_count": 95,
   "metadata": {},
   "outputs": [
    {
     "data": {
      "text/plain": [
       "{'Clothing': [True, 24.57360084050679],\n",
       " 'Services': [True, 40.81881248506724],\n",
       " 'Agriculture': [True, 113.94431307834792],\n",
       " 'Retail': [True, 71.10347423553718],\n",
       " 'Wholesale': [True, 9.67228366099994],\n",
       " 'Manufacturing': [True, 18.31288765585262],\n",
       " 'Entertainment': [True, 7.143310876396597],\n",
       " 'Food': [True, 79.86007129343609],\n",
       " 'Arts': [True, 3.9063862915706324],\n",
       " 'Personal Use': [True, 28.321382420336754],\n",
       " 'Housing': [True, 54.854574827102454],\n",
       " 'Education': [True, 68.74727162314623],\n",
       " 'Health': [True, 16.722846903237205],\n",
       " 'Transportation': [True, 26.78656569692406],\n",
       " 'Construction': [True, 23.38357565723308]}"
      ]
     },
     "execution_count": 95,
     "metadata": {},
     "output_type": "execute_result"
    }
   ],
   "source": [
    "# Step 1: State the null and alternative hypotheses\n",
    "# H0: mu_male - mu_female = 0\n",
    "# Ha: mu_male - mu_female != 0\n",
    "\n",
    "# Step 2: Significance level: \n",
    "alpha = 0.05\n",
    "\n",
    "# Steps 3 and 4: Compute t-tests and p-values\n",
    "d = {}\n",
    "for sector in set(df['SECTOR_NAME']):\n",
    "    t, p = sts.ttest_ind(df[male & funded & right_data & (df['SECTOR_NAME'] == sector)]['diff_posted_raised'], df[female & funded & right_data & (df['SECTOR_NAME'] == sector)]['diff_posted_raised'], equal_var=False)\n",
    "    d[sector] = [(p <= alpha/2)]\n",
    "    d[sector].append(t)\n",
    "d\n",
    "\n",
    "# Step 5: Compare the p-value to alpha and decide.\n",
    "# True: reject H0 that there is no difference between men and women."
   ]
  },
  {
   "cell_type": "markdown",
   "metadata": {},
   "source": [
    "### Cool finding: \n",
    "**Loans requested by women are fulfilled significantly faster than loans requested by men across all sectors. Is there lender bias towards women?**"
   ]
  },
  {
   "cell_type": "code",
   "execution_count": 145,
   "metadata": {},
   "outputs": [
    {
     "data": {
      "text/plain": [
       "(6.894642799656011, 5.414424687233542e-12)"
      ]
     },
     "execution_count": 145,
     "metadata": {},
     "output_type": "execute_result"
    }
   ],
   "source": [
    "# Step 1: State the null and alternative hypotheses\n",
    "# H0: p_male - p_female = 0\n",
    "# Ha: p_male - p_female != 0\n",
    "\n",
    "# Step 2: Significance level: \n",
    "alpha = 0.05\n",
    "\n",
    "t, p = sts.ttest_ind(df[male & funded & right_data]['VIDEO_ID'], df[female & funded & right_data]['VIDEO_ID'], equal_var=False)\n",
    "\n",
    "t,p\n",
    "# Steps 3 and 4: Compute t-tests and p-values\n",
    "# d = {}\n",
    "# for sector in set(df['SECTOR_NAME']):\n",
    "#     t, p = sts.ttest_ind(df[male & funded & right_data & (df['SECTOR_NAME'] == sector)]['IMAGE_ID'], df[female & funded & right_data & (df['SECTOR_NAME'] == sector)]['IMAGE_ID'], equal_var=False)\n",
    "#     d[sector] = [(p <= alpha/2)]\n",
    "#     d[sector].append(t)\n",
    "# d\n",
    "\n",
    "# Step 5: Compare the p-value to alpha and decide.\n",
    "# True: reject H0 that there is no difference between men and women."
   ]
  },
  {
   "cell_type": "markdown",
   "metadata": {},
   "source": [
    "## df[male]['VIDEO_ID'].mean()"
   ]
  },
  {
   "cell_type": "code",
   "execution_count": 144,
   "metadata": {},
   "outputs": [
    {
     "data": {
      "text/plain": [
       "0.0003164762399376785"
      ]
     },
     "execution_count": 144,
     "metadata": {},
     "output_type": "execute_result"
    }
   ],
   "source": [
    "df[female]['VIDEO_ID'].mean()"
   ]
  },
  {
   "cell_type": "markdown",
   "metadata": {},
   "source": [
    "### Is there a significant difference in the average loan amount between male and female, by country?"
   ]
  },
  {
   "cell_type": "code",
   "execution_count": 119,
   "metadata": {},
   "outputs": [
    {
     "name": "stderr",
     "output_type": "stream",
     "text": [
      "/Users/nreyna/miniconda3/lib/python3.6/site-packages/numpy/core/fromnumeric.py:3194: RuntimeWarning: Degrees of freedom <= 0 for slice\n",
      "  **kwargs)\n",
      "/Users/nreyna/miniconda3/lib/python3.6/site-packages/numpy/core/_methods.py:127: RuntimeWarning: invalid value encountered in double_scalars\n",
      "  ret = ret.dtype.type(ret / rcount)\n"
     ]
    }
   ],
   "source": [
    "# Step 1: State the null and alternative hypotheses\n",
    "# H0: mu_male - mu_female = 0\n",
    "# Ha: mu_male - mu_female != 0\n",
    "\n",
    "# Step 2: Significance level: \n",
    "alpha = 0.05\n",
    "\n",
    "# Steps 3 and 4: Compute t-tests and p-values\n",
    "d = {}\n",
    "for country in set(df['COUNTRY_NAME']):\n",
    "    t, p = sts.ttest_ind(df[male & (df['COUNTRY_NAME'] == country)]['LOAN_AMOUNT'], df[female & (df['COUNTRY_NAME'] == country)]['LOAN_AMOUNT'], equal_var=False)\n",
    "    d[country] = [(p <= alpha/2)]\n",
    "    d[country].append(t)"
   ]
  },
  {
   "cell_type": "code",
   "execution_count": 109,
   "metadata": {},
   "outputs": [
    {
     "name": "stdout",
     "output_type": "stream",
     "text": [
      "Ghana:2.5524752362305754\n",
      "Peru:15.240438674676641\n",
      "Honduras:5.92926543646266\n",
      "Palestine:-10.311635759176573\n",
      "Mexico:6.577638415042034\n",
      "Indonesia:13.025646821804427\n",
      "Egypt:14.498695326760519\n",
      "Kyrgyzstan:-4.7057654383518575\n",
      "Myanmar (Burma):6.115530211142076\n",
      "Mongolia:3.146817357381388\n",
      "Ecuador:-6.047972762799776\n",
      "Burkina Faso:6.675858988238828\n",
      "Kosovo:2.953353894472934\n",
      "Liberia:28.655903484880287\n",
      "South Africa:2.371806205755515\n",
      "Haiti:5.995842116888868\n",
      "Paraguay:9.182289431781387\n",
      "Rwanda:5.866850918273524\n",
      "Jordan:4.623152901451522\n",
      "South Sudan:18.057854954733656\n",
      "Benin:2.3012020841462784\n",
      "Pakistan:50.65724537900572\n",
      "Georgia:10.12237323994257\n",
      "Cambodia:5.2971074375804585\n",
      "Tanzania:4.327357072592714\n",
      "Sierra Leone:26.63553812041567\n",
      "Kenya:19.060581463919267\n",
      "El Salvador:8.705594010278261\n",
      "Suriname:3.4161457427604445\n",
      "Togo:50.17091225630051\n",
      "Ukraine:9.33607136502912\n",
      "Philippines:26.844819450744115\n",
      "Thailand:2.817940173099686\n",
      "Colombia:5.8102811508785885\n",
      "Malawi:3.1634373086815435\n",
      "Uganda:29.269976916102742\n",
      "Costa Rica:-8.251473141230118\n",
      "Afghanistan:15.0959475593057\n",
      "Lebanon:18.27285688141465\n",
      "Armenia:-4.879650738299598\n",
      "Dominican Republic:7.994097235459037\n",
      "Nicaragua:13.167302256871873\n",
      "Nigeria:-48.05567771012299\n",
      "The Democratic Republic of the Congo:-2.7666170916270745\n",
      "Yemen:4.188342047705039\n",
      "Tajikistan:31.909032893168497\n",
      "India:9.756825427399153\n",
      "Number of countries where there is NO significant difference between amounts lent to men and women:  46\n",
      "Number of countries where there is a significant difference between amounts lent to men and women:  47\n",
      "Number of countries where men get larger amounts than women:  40\n",
      "Number of countries where women get larger amounts than men:  7\n"
     ]
    }
   ],
   "source": [
    "counter_men_funded_then_women = 0\n",
    "total = 0\n",
    "for k,v in d.items():\n",
    "    if v[0]==True:\n",
    "        print(f'{k}:{v[1]}')\n",
    "        total +=1\n",
    "        if v[1]>0:\n",
    "            counter_men_funded_then_women+=1\n",
    "\n",
    "print('Number of countries where there is NO significant difference between amounts lent to men and women: ',len(d)-total)\n",
    "print('Number of countries where there is a significant difference between amounts lent to men and women: ',total)\n",
    "print('Number of countries where men get larger amounts than women: ',counter_men_funded_then_women)\n",
    "print('Number of countries where women get larger amounts than men: ',total-counter_men_funded_then_women)\n",
    "\n",
    "# Step 5: Compare the p-value to alpha and decide.\n",
    "# True: reject H0 that there is no difference between men and women."
   ]
  },
  {
   "cell_type": "markdown",
   "metadata": {},
   "source": [
    " "
   ]
  },
  {
   "cell_type": "markdown",
   "metadata": {},
   "source": [
    "### Findings:\n",
    "1. In roughly half of the countries in the dataset there is a significant inequality in the lent amounts across gender.\n",
    "2. For countries where there is a significant difference in the average loan amount between men and women, roughly one in five times this difference is in favor of men."
   ]
  },
  {
   "cell_type": "markdown",
   "metadata": {},
   "source": [
    "### Question: Is there gender inequality in access to microfinance?\n",
    "Possible approach to a response: Assuming the average loan amounts are a viable proxy for gender inequality in micro-finance, we can run t-tests to see if there are significant differences between men and women's average individual loan amount by country."
   ]
  },
  {
   "cell_type": "code",
   "execution_count": null,
   "metadata": {},
   "outputs": [],
   "source": []
  },
  {
   "cell_type": "markdown",
   "metadata": {},
   "source": [
    "## More EDA to look for other interesting questions..."
   ]
  },
  {
   "cell_type": "code",
   "execution_count": null,
   "metadata": {},
   "outputs": [],
   "source": [
    "# Count Plot by Sector\n",
    "plt.figure(figsize=(15,4))\n",
    "sns.countplot(x='SECTOR_NAME', data=df, orient='h', order = df['SECTOR_NAME'].value_counts().index)\n",
    "plt.xticks(rotation='vertical')\n",
    "plt.ylabel('Number of loans')\n",
    "plt.xlabel('Sector Name')\n",
    "plt.title(\"Number of Loans By Sector\");"
   ]
  },
  {
   "cell_type": "code",
   "execution_count": null,
   "metadata": {},
   "outputs": [],
   "source": [
    "# Calculate correlations\n",
    "# df[['SECTOR_NAME', 'COUNTRY_NAME']]\n",
    "\n",
    "# Heatmap\n",
    "\n",
    "def count_rows(x):\n",
    "    return len(x)\n",
    "\n",
    "g = df.groupby(['SECTOR_NAME','COUNTRY_NAME']).apply(count_rows).unstack()\n",
    "plt.figure(figsize=(16,4))\n",
    "sns.heatmap(g, cmap='Blues', linewidth=0.5);"
   ]
  },
  {
   "cell_type": "code",
   "execution_count": null,
   "metadata": {},
   "outputs": [],
   "source": [
    "# By Activity\n",
    "df['ACTIVITY_NAME'].value_counts(1).head(10)"
   ]
  },
  {
   "cell_type": "markdown",
   "metadata": {},
   "source": [
    "## Model: Field Partners vs. Direct"
   ]
  },
  {
   "cell_type": "code",
   "execution_count": null,
   "metadata": {},
   "outputs": [],
   "source": [
    "# Field Partners\n",
    "plt.figure(figsize=(16,8))\n",
    "sns.boxplot(x='COUNTRY_NAME', y='LOAN_AMOUNT', data=df[df['DISTRIBUTION_MODEL']=='field_partner'])\n",
    "plt.xticks(rotation='vertical')\n",
    "plt.ylim(0,10000);"
   ]
  },
  {
   "cell_type": "code",
   "execution_count": null,
   "metadata": {},
   "outputs": [],
   "source": [
    "# Direct\n",
    "plt.figure(figsize=(8,4))\n",
    "sns.boxplot(x='COUNTRY_NAME', y='LOAN_AMOUNT', data=df[df['DISTRIBUTION_MODEL']=='direct'])\n",
    "plt.xticks(rotation='vertical');\n",
    "plt.ylim(0,10000);"
   ]
  },
  {
   "cell_type": "code",
   "execution_count": null,
   "metadata": {},
   "outputs": [],
   "source": [
    "g_country = df.groupby('COUNTRY_NAME')\n",
    "g_country['LOAN_AMOUNT'].sum().sort_values(ascending=False).head(10)"
   ]
  },
  {
   "cell_type": "code",
   "execution_count": null,
   "metadata": {},
   "outputs": [],
   "source": [
    "df.sort_values?"
   ]
  },
  {
   "cell_type": "code",
   "execution_count": null,
   "metadata": {},
   "outputs": [],
   "source": [
    "import seaborn as sns\n",
    "corr = df[['LOAN_AMOUNT', 'LENDER_TERM', 'NUM_LENDERS_TOTAL', 'GROUP']].corr()\n",
    "sns.heatmap(corr, \n",
    "            xticklabels=corr.columns.values,\n",
    "            yticklabels=corr.columns.values,\n",
    "           cmap='Blues')"
   ]
  },
  {
   "cell_type": "code",
   "execution_count": null,
   "metadata": {},
   "outputs": [],
   "source": [
    "df[male].describe().T"
   ]
  },
  {
   "cell_type": "code",
   "execution_count": null,
   "metadata": {},
   "outputs": [],
   "source": [
    "df[female].describe().transpose()"
   ]
  },
  {
   "cell_type": "code",
   "execution_count": null,
   "metadata": {},
   "outputs": [],
   "source": [
    "g = sns.lmplot(x=\"LOAN_AMOUNT\", y=\"NUM_LENDERS_TOTAL\", hue = 'BORROWER_GENDERS',\n",
    "               truncate=True, size=8, data=df[individual])\n",
    "g.set_axis_labels(\"Loan Size\", \"Number of Lenders\");"
   ]
  },
  {
   "cell_type": "code",
   "execution_count": null,
   "metadata": {},
   "outputs": [],
   "source": [
    "g = sns.lmplot(x=\"LOAN_AMOUNT\", y=\"NUM_LENDERS_TOTAL\", hue='GROUP',\n",
    "               truncate=True, size=5, data=df)\n",
    "g.set_axis_labels(\"Loan Size\", \"Number of Lenders\");"
   ]
  },
  {
   "cell_type": "markdown",
   "metadata": {},
   "source": [
    "Other questions?"
   ]
  }
 ],
 "metadata": {
  "kernelspec": {
   "display_name": "Python 3",
   "language": "python",
   "name": "python3"
  },
  "language_info": {
   "codemirror_mode": {
    "name": "ipython",
    "version": 3
   },
   "file_extension": ".py",
   "mimetype": "text/x-python",
   "name": "python",
   "nbconvert_exporter": "python",
   "pygments_lexer": "ipython3",
   "version": "3.6.5"
  }
 },
 "nbformat": 4,
 "nbformat_minor": 2
}
